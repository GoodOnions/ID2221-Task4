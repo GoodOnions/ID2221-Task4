{
 "cells": [
  {
   "cell_type": "code",
   "execution_count": 3,
   "metadata": {},
   "outputs": [],
   "source": [
    "import requests\n",
    "\n",
    "AUTH_URL = 'https://accounts.spotify.com/api/token'\n",
    "\n",
    "# POST\n",
    "auth_response = requests.post(AUTH_URL, {\n",
    "    'grant_type': 'client_credentials',\n",
    "    'client_id': '72c2183e4c034c15a0305818667390b7',\n",
    "    'client_secret': '7dc6919a592f49519435f7dc3f8fc1b5',\n",
    "})\n",
    "\n",
    "# convert the response to JSON\n",
    "auth_response_data = auth_response.json()\n",
    "\n",
    "# save the access token\n",
    "access_token= auth_response_data['access_token']\n",
    "\n",
    "headers = {\n",
    "    'Authorization': 'Bearer {token}'.format(token=access_token)\n",
    "}"
   ]
  },
  {
   "cell_type": "code",
   "execution_count": 10,
   "metadata": {},
   "outputs": [
    {
     "data": {
      "text/plain": [
       "{'danceability': 0.661,\n",
       " 'energy': 0.544,\n",
       " 'key': 4,\n",
       " 'loudness': -7.528,\n",
       " 'mode': 1,\n",
       " 'speechiness': 0.0782,\n",
       " 'acousticness': 0.382,\n",
       " 'instrumentalness': 0,\n",
       " 'liveness': 0.164,\n",
       " 'valence': 0.768,\n",
       " 'tempo': 99.783,\n",
       " 'type': 'audio_features',\n",
       " 'id': '7L7QYf7S6wg6pseN2C0d6K',\n",
       " 'uri': 'spotify:track:7L7QYf7S6wg6pseN2C0d6K',\n",
       " 'track_href': 'https://api.spotify.com/v1/tracks/7L7QYf7S6wg6pseN2C0d6K',\n",
       " 'analysis_url': 'https://api.spotify.com/v1/audio-analysis/7L7QYf7S6wg6pseN2C0d6K',\n",
       " 'duration_ms': 142350,\n",
       " 'time_signature': 4}"
      ]
     },
     "execution_count": 10,
     "metadata": {},
     "output_type": "execute_result"
    }
   ],
   "source": [
    "BASE_URL = 'https://api.spotify.com/v1/'\n",
    "\n",
    "# Track ID from the URI\n",
    "track_id = '6y0igZArWVi6Iz0rj35c1Y,7L7QYf7S6wg6pseN2C0d6K'\n",
    "\n",
    "# actual GET request with proper header\n",
    "r = requests.get(BASE_URL + 'audio-features?ids=' + track_id, headers=headers)\n",
    "\n",
    "r=r.json()\n",
    "r['audio_features'][1]"
   ]
  },
  {
   "cell_type": "code",
   "execution_count": null,
   "metadata": {},
   "outputs": [],
   "source": [
    "def requestAPI(track_ids):\n",
    "    AUTH_URL = 'https://accounts.spotify.com/api/token'\n",
    "\n",
    "    # POST\n",
    "    auth_response = requests.post(AUTH_URL, {\n",
    "        'grant_type': 'client_credentials',\n",
    "        'client_id': '72c2183e4c034c15a0305818667390b7',\n",
    "        'client_secret': '7dc6919a592f49519435f7dc3f8fc1b5',\n",
    "    })\n",
    "\n",
    "    # convert the response to JSON\n",
    "    auth_response_data = auth_response.json()\n",
    "\n",
    "    # save the access token\n",
    "    access_token= auth_response_data['access_token']\n",
    "\n",
    "    headers = {\n",
    "        'Authorization': 'Bearer {token}'.format(token=access_token)\n",
    "    }\n",
    "\n",
    "    BASE_URL = 'https://api.spotify.com/v1/'\n",
    "\n",
    "    # actual GET request with proper header\n",
    "    r = requests.get(BASE_URL + 'audio-features?ids=' + track_ids, headers=headers)\n",
    "\n",
    "    return r.json()"
   ]
  },
  {
   "cell_type": "code",
   "execution_count": 15,
   "metadata": {},
   "outputs": [
    {
     "name": "stdout",
     "output_type": "stream",
     "text": [
      "[0.59, 0.54, 234910]\n"
     ]
    }
   ],
   "source": [
    "def requestAPI(track_id):\n",
    "    AUTH_URL = 'https://accounts.spotify.com/api/token'\n",
    "\n",
    "    # POST\n",
    "    auth_response = requests.post(AUTH_URL, {\n",
    "        'grant_type': 'client_credentials',\n",
    "        'client_id': '72c2183e4c034c15a0305818667390b7',\n",
    "        'client_secret': '7dc6919a592f49519435f7dc3f8fc1b5',\n",
    "    })\n",
    "\n",
    "    # convert the response to JSON\n",
    "    auth_response_data = auth_response.json()\n",
    "\n",
    "    # save the access token\n",
    "    access_token= auth_response_data['access_token']\n",
    "\n",
    "    headers = {\n",
    "        'Authorization': 'Bearer {token}'.format(token=access_token)\n",
    "    }\n",
    "\n",
    "    BASE_URL = 'https://api.spotify.com/v1/'\n",
    "\n",
    "    # actual GET request with proper header\n",
    "    track_id = '6y0igZArWVi6Iz0rj35c1Y'\n",
    "\n",
    "    r = requests.get(BASE_URL + 'audio-features/' + track_id, headers=headers)\n",
    "\n",
    "    return [r.json()['energy'],r.json()['danceability'],r.json()['duration_ms']]\n",
    "print(requestAPI('ciao'))"
   ]
  }
 ],
 "metadata": {
  "kernelspec": {
   "display_name": "Python 3",
   "language": "python",
   "name": "python3"
  },
  "language_info": {
   "codemirror_mode": {
    "name": "ipython",
    "version": 3
   },
   "file_extension": ".py",
   "mimetype": "text/x-python",
   "name": "python",
   "nbconvert_exporter": "python",
   "pygments_lexer": "ipython3",
   "version": "3.10.13"
  }
 },
 "nbformat": 4,
 "nbformat_minor": 2
}
