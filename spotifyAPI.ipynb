{
 "cells": [
  {
   "cell_type": "code",
   "execution_count": 3,
   "metadata": {},
   "outputs": [],
   "source": [
    "import requests\n",
    "\n",
    "AUTH_URL = 'https://accounts.spotify.com/api/token'\n",
    "\n",
    "# POST\n",
    "auth_response = requests.post(AUTH_URL, {\n",
    "    'grant_type': 'client_credentials',\n",
    "    'client_id': '72c2183e4c034c15a0305818667390b7',\n",
    "    'client_secret': '7dc6919a592f49519435f7dc3f8fc1b5',\n",
    "})\n",
    "\n",
    "# convert the response to JSON\n",
    "auth_response_data = auth_response.json()\n",
    "\n",
    "# save the access token\n",
    "access_token= auth_response_data['access_token']\n",
    "\n",
    "headers = {\n",
    "    'Authorization': 'Bearer {token}'.format(token=access_token)\n",
    "}"
   ]
  },
  {
   "cell_type": "code",
   "execution_count": 10,
   "metadata": {},
   "outputs": [
    {
     "data": {
      "text/plain": [
       "{'danceability': 0.661,\n",
       " 'energy': 0.544,\n",
       " 'key': 4,\n",
       " 'loudness': -7.528,\n",
       " 'mode': 1,\n",
       " 'speechiness': 0.0782,\n",
       " 'acousticness': 0.382,\n",
       " 'instrumentalness': 0,\n",
       " 'liveness': 0.164,\n",
       " 'valence': 0.768,\n",
       " 'tempo': 99.783,\n",
       " 'type': 'audio_features',\n",
       " 'id': '7L7QYf7S6wg6pseN2C0d6K',\n",
       " 'uri': 'spotify:track:7L7QYf7S6wg6pseN2C0d6K',\n",
       " 'track_href': 'https://api.spotify.com/v1/tracks/7L7QYf7S6wg6pseN2C0d6K',\n",
       " 'analysis_url': 'https://api.spotify.com/v1/audio-analysis/7L7QYf7S6wg6pseN2C0d6K',\n",
       " 'duration_ms': 142350,\n",
       " 'time_signature': 4}"
      ]
     },
     "execution_count": 10,
     "metadata": {},
     "output_type": "execute_result"
    }
   ],
   "source": [
    "BASE_URL = 'https://api.spotify.com/v1/'\n",
    "\n",
    "# Track ID from the URI\n",
    "track_id = '6y0igZArWVi6Iz0rj35c1Y,7L7QYf7S6wg6pseN2C0d6K'\n",
    "\n",
    "# actual GET request with proper header\n",
    "r = requests.get(BASE_URL + 'audio-features?ids=' + track_id, headers=headers)\n",
    "\n",
    "r=r.json()\n",
    "r['audio_features'][1]"
   ]
  },
  {
   "cell_type": "code",
   "execution_count": 49,
   "metadata": {},
   "outputs": [
    {
     "name": "stdout",
     "output_type": "stream",
     "text": [
      "[(0.738, 0.698, 198984, 0, -5.338, 128.016, 0.3), (0.702, 0.586, 176260, 0, -7.265, 160.089, 0.359)]\n"
     ]
    }
   ],
   "source": [
    "from time import sleep\n",
    "\n",
    "def requestAPI(track_ids):\n",
    "    AUTH_URL = 'https://accounts.spotify.com/api/token'\n",
    "\n",
    "    # POST\n",
    "    auth_response = requests.post(AUTH_URL, {\n",
    "        'grant_type': 'client_credentials',\n",
    "        'client_id': '72c2183e4c034c15a0305818667390b7',\n",
    "        'client_secret': '7dc6919a592f49519435f7dc3f8fc1b5',\n",
    "    })\n",
    "\n",
    "    # convert the response to JSON\n",
    "    auth_response_data = auth_response.json()\n",
    "\n",
    "    # save the access token\n",
    "    access_token= auth_response_data['access_token']\n",
    "\n",
    "    headers = {\n",
    "        'Authorization': 'Bearer {token}'.format(token=access_token)\n",
    "    }\n",
    "\n",
    "    BASE_URL = 'https://api.spotify.com/v1/'\n",
    "\n",
    "    track_ids_str = ','.join(track_ids)\n",
    "    # actual GET request with proper header\n",
    "    r = requests.get(BASE_URL + 'audio-features?ids=' + track_ids_str, headers=headers)\n",
    "\n",
    "    while r.status_code!=200:\n",
    "        print('Status code ->',r.status_code)\n",
    "        sleep(20)\n",
    "        r = requests.get(BASE_URL + 'audio-features?ids=' + track_ids_str, headers=headers)\n",
    "\n",
    "    r = r.json()\n",
    "    result = []\n",
    "    for track in r['audio_features']:\n",
    "        result.append((track['energy'], track['danceability'], track['duration_ms'], track['instrumentalness'], track['loudness'], track['tempo'], track['valence']))\n",
    "    return result\n",
    "\n",
    "print(requestAPI(['0RmDknxxiA8fnKEIAbvVui', '1v0Yd9leQpwcbPxvUTQOGX']))\n"
   ]
  },
  {
   "cell_type": "code",
   "execution_count": 41,
   "metadata": {},
   "outputs": [
    {
     "name": "stdout",
     "output_type": "stream",
     "text": [
      "Status code -> 429\n",
      "Status code -> 429\n",
      "Status code -> 429\n",
      "Status code -> 429\n",
      "Status code -> 429\n",
      "Status code -> 429\n",
      "Status code -> 429\n",
      "Status code -> 429\n",
      "Status code -> 429\n",
      "Status code -> 429\n",
      "Status code -> 429\n",
      "Status code -> 429\n",
      "Status code -> 429\n",
      "Status code -> 429\n",
      "Status code -> 429\n",
      "Status code -> 429\n",
      "Status code -> 429\n",
      "Status code -> 429\n",
      "Status code -> 429\n",
      "Status code -> 429\n",
      "Status code -> 429\n",
      "Status code -> 429\n",
      "Status code -> 429\n",
      "Status code -> 429\n",
      "Status code -> 429\n",
      "Status code -> 429\n",
      "Status code -> 429\n",
      "Status code -> 429\n",
      "Status code -> 429\n"
     ]
    },
    {
     "ename": "KeyboardInterrupt",
     "evalue": "",
     "output_type": "error",
     "traceback": [
      "\u001b[0;31m---------------------------------------------------------------------------\u001b[0m",
      "\u001b[0;31mKeyboardInterrupt\u001b[0m                         Traceback (most recent call last)",
      "\u001b[1;32m/Users/daniele/KTH-Projects/ID2221-Task4/spotifyAPI.ipynb Cell 4\u001b[0m line \u001b[0;36m3\n\u001b[1;32m     <a href='vscode-notebook-cell:/Users/daniele/KTH-Projects/ID2221-Task4/spotifyAPI.ipynb#W3sZmlsZQ%3D%3D?line=34'>35</a>\u001b[0m     r \u001b[39m=\u001b[39m r\u001b[39m.\u001b[39mjson()\n\u001b[1;32m     <a href='vscode-notebook-cell:/Users/daniele/KTH-Projects/ID2221-Task4/spotifyAPI.ipynb#W3sZmlsZQ%3D%3D?line=35'>36</a>\u001b[0m     \u001b[39mreturn\u001b[39;00m (r[\u001b[39m'\u001b[39m\u001b[39menergy\u001b[39m\u001b[39m'\u001b[39m],r[\u001b[39m'\u001b[39m\u001b[39mdanceability\u001b[39m\u001b[39m'\u001b[39m],r[\u001b[39m'\u001b[39m\u001b[39mduration_ms\u001b[39m\u001b[39m'\u001b[39m], r[\u001b[39m'\u001b[39m\u001b[39minstrumentalness\u001b[39m\u001b[39m'\u001b[39m],\\\n\u001b[1;32m     <a href='vscode-notebook-cell:/Users/daniele/KTH-Projects/ID2221-Task4/spotifyAPI.ipynb#W3sZmlsZQ%3D%3D?line=36'>37</a>\u001b[0m             r[\u001b[39m'\u001b[39m\u001b[39mloudness\u001b[39m\u001b[39m'\u001b[39m],r[\u001b[39m'\u001b[39m\u001b[39mtempo\u001b[39m\u001b[39m'\u001b[39m],r[\u001b[39m'\u001b[39m\u001b[39mvalence\u001b[39m\u001b[39m'\u001b[39m])\n\u001b[0;32m---> <a href='vscode-notebook-cell:/Users/daniele/KTH-Projects/ID2221-Task4/spotifyAPI.ipynb#W3sZmlsZQ%3D%3D?line=37'>38</a>\u001b[0m \u001b[39mprint\u001b[39m(requestAPI(\u001b[39m'\u001b[39;49m\u001b[39mciao\u001b[39;49m\u001b[39m'\u001b[39;49m))\n",
      "\u001b[1;32m/Users/daniele/KTH-Projects/ID2221-Task4/spotifyAPI.ipynb Cell 4\u001b[0m line \u001b[0;36m3\n\u001b[1;32m     <a href='vscode-notebook-cell:/Users/daniele/KTH-Projects/ID2221-Task4/spotifyAPI.ipynb#W3sZmlsZQ%3D%3D?line=28'>29</a>\u001b[0m \u001b[39mwhile\u001b[39;00m r\u001b[39m.\u001b[39mstatus_code\u001b[39m!=\u001b[39m\u001b[39m200\u001b[39m:\n\u001b[1;32m     <a href='vscode-notebook-cell:/Users/daniele/KTH-Projects/ID2221-Task4/spotifyAPI.ipynb#W3sZmlsZQ%3D%3D?line=29'>30</a>\u001b[0m     \u001b[39mprint\u001b[39m(\u001b[39m'\u001b[39m\u001b[39mStatus code ->\u001b[39m\u001b[39m'\u001b[39m,r\u001b[39m.\u001b[39mstatus_code)\n\u001b[0;32m---> <a href='vscode-notebook-cell:/Users/daniele/KTH-Projects/ID2221-Task4/spotifyAPI.ipynb#W3sZmlsZQ%3D%3D?line=30'>31</a>\u001b[0m     sleep(\u001b[39m20\u001b[39;49m)\n\u001b[1;32m     <a href='vscode-notebook-cell:/Users/daniele/KTH-Projects/ID2221-Task4/spotifyAPI.ipynb#W3sZmlsZQ%3D%3D?line=31'>32</a>\u001b[0m     r \u001b[39m=\u001b[39m requests\u001b[39m.\u001b[39mget(BASE_URL \u001b[39m+\u001b[39m \u001b[39m'\u001b[39m\u001b[39maudio-features/\u001b[39m\u001b[39m'\u001b[39m \u001b[39m+\u001b[39m track_id, headers\u001b[39m=\u001b[39mheaders)\n\u001b[1;32m     <a href='vscode-notebook-cell:/Users/daniele/KTH-Projects/ID2221-Task4/spotifyAPI.ipynb#W3sZmlsZQ%3D%3D?line=34'>35</a>\u001b[0m r \u001b[39m=\u001b[39m r\u001b[39m.\u001b[39mjson()\n",
      "\u001b[0;31mKeyboardInterrupt\u001b[0m: "
     ]
    }
   ],
   "source": [
    "from time import sleep\n",
    "def requestAPI(track_id):\n",
    "    AUTH_URL = 'https://accounts.spotify.com/api/token'\n",
    "\n",
    "    # POST\n",
    "    auth_response = requests.post(AUTH_URL, {\n",
    "        'grant_type': 'client_credentials',\n",
    "        'client_id': '72c2183e4c034c15a0305818667390b7',\n",
    "        'client_secret': '7dc6919a592f49519435f7dc3f8fc1b5',\n",
    "    })\n",
    "\n",
    "    # convert the response to JSON\n",
    "    auth_response_data = auth_response.json()\n",
    "\n",
    "    # save the access token\n",
    "    access_token= auth_response_data['access_token']\n",
    "\n",
    "    headers = {\n",
    "        'Authorization': 'Bearer {token}'.format(token=access_token)\n",
    "    }\n",
    "\n",
    "    BASE_URL = 'https://api.spotify.com/v1/'\n",
    "\n",
    "    # actual GET request with proper header\n",
    "    track_id = '0RmDknxxiA8fnKEIAbvVui'\n",
    "\n",
    "    r = requests.get(BASE_URL + 'audio-features/' + track_id, headers=headers)\n",
    "    \n",
    "    while r.status_code!=200:\n",
    "        print('Status code ->',r.status_code)\n",
    "        sleep(20)\n",
    "        r = requests.get(BASE_URL + 'audio-features/' + track_id, headers=headers)\n",
    "    \n",
    "\n",
    "    r = r.json()\n",
    "    return (r['energy'],r['danceability'],r['duration_ms'], r['instrumentalness'],\\\n",
    "            r['loudness'],r['tempo'],r['valence'])\n",
    "print(requestAPI('ciao'))"
   ]
  }
 ],
 "metadata": {
  "kernelspec": {
   "display_name": "Python 3",
   "language": "python",
   "name": "python3"
  },
  "language_info": {
   "codemirror_mode": {
    "name": "ipython",
    "version": 3
   },
   "file_extension": ".py",
   "mimetype": "text/x-python",
   "name": "python",
   "nbconvert_exporter": "python",
   "pygments_lexer": "ipython3",
   "version": "3.10.13"
  }
 },
 "nbformat": 4,
 "nbformat_minor": 2
}
