{
 "cells": [
  {
   "cell_type": "code",
   "execution_count": 3,
   "metadata": {},
   "outputs": [],
   "source": [
    "import requests\n",
    "\n",
    "AUTH_URL = 'https://accounts.spotify.com/api/token'\n",
    "\n",
    "# POST\n",
    "auth_response = requests.post(AUTH_URL, {\n",
    "    'grant_type': 'client_credentials',\n",
    "    'client_id': '72c2183e4c034c15a0305818667390b7',\n",
    "    'client_secret': '7dc6919a592f49519435f7dc3f8fc1b5',\n",
    "})\n",
    "\n",
    "# convert the response to JSON\n",
    "auth_response_data = auth_response.json()\n",
    "\n",
    "# save the access token\n",
    "access_token= auth_response_data['access_token']\n",
    "\n",
    "headers = {\n",
    "    'Authorization': 'Bearer {token}'.format(token=access_token)\n",
    "}"
   ]
  },
  {
   "cell_type": "code",
   "execution_count": 10,
   "metadata": {},
   "outputs": [
    {
     "data": {
      "text/plain": [
       "{'danceability': 0.661,\n",
       " 'energy': 0.544,\n",
       " 'key': 4,\n",
       " 'loudness': -7.528,\n",
       " 'mode': 1,\n",
       " 'speechiness': 0.0782,\n",
       " 'acousticness': 0.382,\n",
       " 'instrumentalness': 0,\n",
       " 'liveness': 0.164,\n",
       " 'valence': 0.768,\n",
       " 'tempo': 99.783,\n",
       " 'type': 'audio_features',\n",
       " 'id': '7L7QYf7S6wg6pseN2C0d6K',\n",
       " 'uri': 'spotify:track:7L7QYf7S6wg6pseN2C0d6K',\n",
       " 'track_href': 'https://api.spotify.com/v1/tracks/7L7QYf7S6wg6pseN2C0d6K',\n",
       " 'analysis_url': 'https://api.spotify.com/v1/audio-analysis/7L7QYf7S6wg6pseN2C0d6K',\n",
       " 'duration_ms': 142350,\n",
       " 'time_signature': 4}"
      ]
     },
     "execution_count": 10,
     "metadata": {},
     "output_type": "execute_result"
    }
   ],
   "source": [
    "BASE_URL = 'https://api.spotify.com/v1/'\n",
    "\n",
    "# Track ID from the URI\n",
    "track_id = '6y0igZArWVi6Iz0rj35c1Y,7L7QYf7S6wg6pseN2C0d6K'\n",
    "\n",
    "# actual GET request with proper header\n",
    "r = requests.get(BASE_URL + 'audio-features?ids=' + track_id, headers=headers)\n",
    "\n",
    "r=r.json()\n",
    "r['audio_features'][1]"
   ]
  },
  {
   "cell_type": "code",
   "execution_count": 49,
   "metadata": {},
   "outputs": [
    {
     "name": "stdout",
     "output_type": "stream",
     "text": [
      "[(0.738, 0.698, 198984, 0, -5.338, 128.016, 0.3), (0.702, 0.586, 176260, 0, -7.265, 160.089, 0.359)]\n"
     ]
    }
   ],
   "source": [
    "from time import sleep\n",
    "\n",
    "def requestAPI(track_ids):\n",
    "    AUTH_URL = 'https://accounts.spotify.com/api/token'\n",
    "\n",
    "    # POST\n",
    "    auth_response = requests.post(AUTH_URL, {\n",
    "        'grant_type': 'client_credentials',\n",
    "        'client_id': '72c2183e4c034c15a0305818667390b7',\n",
    "        'client_secret': '7dc6919a592f49519435f7dc3f8fc1b5',\n",
    "    })\n",
    "\n",
    "    # convert the response to JSON\n",
    "    auth_response_data = auth_response.json()\n",
    "\n",
    "    # save the access token\n",
    "    access_token= auth_response_data['access_token']\n",
    "\n",
    "    headers = {\n",
    "        'Authorization': 'Bearer {token}'.format(token=access_token)\n",
    "    }\n",
    "\n",
    "    BASE_URL = 'https://api.spotify.com/v1/'\n",
    "\n",
    "    track_ids_str = ','.join(track_ids)\n",
    "    # actual GET request with proper header\n",
    "    r = requests.get(BASE_URL + 'audio-features?ids=' + track_ids_str, headers=headers)\n",
    "\n",
    "    while r.status_code!=200:\n",
    "        print('Status code ->',r.status_code)\n",
    "        sleep(20)\n",
    "        r = requests.get(BASE_URL + 'audio-features?ids=' + track_ids_str, headers=headers)\n",
    "\n",
    "    r = r.json()\n",
    "    result = []\n",
    "    for track in r['audio_features']:\n",
    "        result.append((track['energy'], track['danceability'], track['duration_ms'], track['instrumentalness'], track['loudness'], track['tempo'], track['valence']))\n",
    "    return result\n",
    "\n",
    "print(requestAPI(['0RmDknxxiA8fnKEIAbvVui', '1v0Yd9leQpwcbPxvUTQOGX']))\n"
   ]
  },
  {
   "cell_type": "code",
   "execution_count": 29,
   "metadata": {},
   "outputs": [
    {
     "name": "stdout",
     "output_type": "stream",
     "text": [
      "(0.738, 0.698, 198984, 0, -5.338, 128.016, 0.3)\n"
     ]
    }
   ],
   "source": [
    "from time import sleep\n",
    "import redis \n",
    "import json\n",
    "import requests\n",
    "\n",
    "redis_cache= redis.StrictRedis(host='localhost')\n",
    "\n",
    "def getAccessToken():\n",
    "    AUTH_URL = 'https://accounts.spotify.com/api/token'\n",
    "\n",
    "    auth_response = requests.post(AUTH_URL, {\n",
    "        'grant_type': 'client_credentials',\n",
    "        'client_id': '72c2183e4c034c15a0305818667390b7',\n",
    "        'client_secret': '7dc6919a592f49519435f7dc3f8fc1b5',\n",
    "    })\n",
    "    \n",
    "    auth_response_data = auth_response.json()\n",
    "    return auth_response_data['access_token']\n",
    "\n",
    "\n",
    "def getAuthHeader():\n",
    "\n",
    "    header = redis_cache.get('header')\n",
    "    if header == None:\n",
    "        \n",
    "        access_token = getAccessToken()\n",
    "        header = {\n",
    "            'Authorization': 'Bearer {token}'.format(token=access_token)\n",
    "        }\n",
    "        redis_cache.set('header',json.dumps(header),ex=3500)  #Spotify timeout at 3600\n",
    "    else:\n",
    "        header = json.loads(header)\n",
    "    return header\n",
    "\n",
    "\n",
    "\n",
    "\n",
    "def requestAPI(track_id):\n",
    "    \n",
    "    headers = getAuthHeader()\n",
    "    \n",
    "    track_id = '0RmDknxxiA8fnKEIAbvVui'\n",
    "    BASE_URL = 'https://api.spotify.com/v1/'\n",
    "    r = requests.get(BASE_URL + 'audio-features/' + track_id, headers=headers)\n",
    "    \n",
    "    while r.status_code!=200:\n",
    "        print('Status code ->',r.status_code)\n",
    "        print(r.json())\n",
    "        sleep(20)\n",
    "        r = requests.get(BASE_URL + 'audio-features/' + track_id, headers=headers)\n",
    "    \n",
    "\n",
    "    r = r.json()\n",
    "    return (r['energy'],r['danceability'],r['duration_ms'], r['instrumentalness'],\\\n",
    "            r['loudness'],r['tempo'],r['valence'])\n",
    "\n",
    "\n",
    "print(requestAPI('ciao'))"
   ]
  },
  {
   "cell_type": "code",
   "execution_count": 5,
   "metadata": {},
   "outputs": [
    {
     "name": "stdout",
     "output_type": "stream",
     "text": [
      "solo\n"
     ]
    }
   ],
   "source": [
    "import redis \n",
    "\n",
    "red= redis.StrictRedis(host='localhost')\n",
    "\n",
    "red.set('pippo','solo',ex=1)\n",
    "\n",
    "print(red.get('pippo').decode(\"utf-8\"))"
   ]
  },
  {
   "cell_type": "code",
   "execution_count": 24,
   "metadata": {},
   "outputs": [
    {
     "data": {
      "text/plain": [
       "1"
      ]
     },
     "execution_count": 24,
     "metadata": {},
     "output_type": "execute_result"
    }
   ],
   "source": [
    "redis_cache.delete('header')"
   ]
  }
 ],
 "metadata": {
  "kernelspec": {
   "display_name": "Python 3",
   "language": "python",
   "name": "python3"
  },
  "language_info": {
   "codemirror_mode": {
    "name": "ipython",
    "version": 3
   },
   "file_extension": ".py",
   "mimetype": "text/x-python",
   "name": "python",
   "nbconvert_exporter": "python",
   "pygments_lexer": "ipython3",
   "version": "3.9.13"
  }
 },
 "nbformat": 4,
 "nbformat_minor": 2
}
