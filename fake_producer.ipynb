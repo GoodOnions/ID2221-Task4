{
 "cells": [
  {
   "cell_type": "code",
   "execution_count": 20,
   "metadata": {},
   "outputs": [
    {
     "ename": "UnrecognizedBrokerVersion",
     "evalue": "UnrecognizedBrokerVersion",
     "output_type": "error",
     "traceback": [
      "\u001b[0;31m---------------------------------------------------------------------------\u001b[0m",
      "\u001b[0;31mUnrecognizedBrokerVersion\u001b[0m                 Traceback (most recent call last)",
      "\u001b[1;32m/Users/daniele/KTH-Projects/ID2221-Task4/fake_producer.ipynb Cell 1\u001b[0m line \u001b[0;36m8\n\u001b[1;32m      <a href='vscode-notebook-cell:/Users/daniele/KTH-Projects/ID2221-Task4/fake_producer.ipynb#W1sZmlsZQ%3D%3D?line=1'>2</a>\u001b[0m \u001b[39mfrom\u001b[39;00m \u001b[39mjson\u001b[39;00m \u001b[39mimport\u001b[39;00m dumps\n\u001b[1;32m      <a href='vscode-notebook-cell:/Users/daniele/KTH-Projects/ID2221-Task4/fake_producer.ipynb#W1sZmlsZQ%3D%3D?line=2'>3</a>\u001b[0m \u001b[39mfrom\u001b[39;00m \u001b[39mkafka\u001b[39;00m \u001b[39mimport\u001b[39;00m KafkaProducer\n\u001b[0;32m----> <a href='vscode-notebook-cell:/Users/daniele/KTH-Projects/ID2221-Task4/fake_producer.ipynb#W1sZmlsZQ%3D%3D?line=7'>8</a>\u001b[0m producer \u001b[39m=\u001b[39m KafkaProducer(bootstrap_servers\u001b[39m=\u001b[39;49m[\u001b[39m'\u001b[39;49m\u001b[39mlocalhost:9094\u001b[39;49m\u001b[39m'\u001b[39;49m],\n\u001b[1;32m      <a href='vscode-notebook-cell:/Users/daniele/KTH-Projects/ID2221-Task4/fake_producer.ipynb#W1sZmlsZQ%3D%3D?line=8'>9</a>\u001b[0m                          value_serializer\u001b[39m=\u001b[39;49m\u001b[39mlambda\u001b[39;49;00m x: \n\u001b[1;32m     <a href='vscode-notebook-cell:/Users/daniele/KTH-Projects/ID2221-Task4/fake_producer.ipynb#W1sZmlsZQ%3D%3D?line=9'>10</a>\u001b[0m                          dumps(x)\u001b[39m.\u001b[39;49mencode(\u001b[39m'\u001b[39;49m\u001b[39mutf-8\u001b[39;49m\u001b[39m'\u001b[39;49m))\n\u001b[1;32m     <a href='vscode-notebook-cell:/Users/daniele/KTH-Projects/ID2221-Task4/fake_producer.ipynb#W1sZmlsZQ%3D%3D?line=11'>12</a>\u001b[0m \u001b[39mfor\u001b[39;00m e \u001b[39min\u001b[39;00m \u001b[39mrange\u001b[39m(\u001b[39m1000\u001b[39m):\n\u001b[1;32m     <a href='vscode-notebook-cell:/Users/daniele/KTH-Projects/ID2221-Task4/fake_producer.ipynb#W1sZmlsZQ%3D%3D?line=12'>13</a>\u001b[0m     data \u001b[39m=\u001b[39m {\u001b[39m'\u001b[39m\u001b[39mnumber\u001b[39m\u001b[39m'\u001b[39m : e}\n",
      "File \u001b[0;32m/opt/homebrew/lib/python3.10/site-packages/kafka/producer/kafka.py:381\u001b[0m, in \u001b[0;36mKafkaProducer.__init__\u001b[0;34m(self, **configs)\u001b[0m\n\u001b[1;32m    378\u001b[0m reporters \u001b[39m=\u001b[39m [reporter() \u001b[39mfor\u001b[39;00m reporter \u001b[39min\u001b[39;00m \u001b[39mself\u001b[39m\u001b[39m.\u001b[39mconfig[\u001b[39m'\u001b[39m\u001b[39mmetric_reporters\u001b[39m\u001b[39m'\u001b[39m]]\n\u001b[1;32m    379\u001b[0m \u001b[39mself\u001b[39m\u001b[39m.\u001b[39m_metrics \u001b[39m=\u001b[39m Metrics(metric_config, reporters)\n\u001b[0;32m--> 381\u001b[0m client \u001b[39m=\u001b[39m KafkaClient(metrics\u001b[39m=\u001b[39;49m\u001b[39mself\u001b[39;49m\u001b[39m.\u001b[39;49m_metrics, metric_group_prefix\u001b[39m=\u001b[39;49m\u001b[39m'\u001b[39;49m\u001b[39mproducer\u001b[39;49m\u001b[39m'\u001b[39;49m,\n\u001b[1;32m    382\u001b[0m                      wakeup_timeout_ms\u001b[39m=\u001b[39;49m\u001b[39mself\u001b[39;49m\u001b[39m.\u001b[39;49mconfig[\u001b[39m'\u001b[39;49m\u001b[39mmax_block_ms\u001b[39;49m\u001b[39m'\u001b[39;49m],\n\u001b[1;32m    383\u001b[0m                      \u001b[39m*\u001b[39;49m\u001b[39m*\u001b[39;49m\u001b[39mself\u001b[39;49m\u001b[39m.\u001b[39;49mconfig)\n\u001b[1;32m    385\u001b[0m \u001b[39m# Get auto-discovered version from client if necessary\u001b[39;00m\n\u001b[1;32m    386\u001b[0m \u001b[39mif\u001b[39;00m \u001b[39mself\u001b[39m\u001b[39m.\u001b[39mconfig[\u001b[39m'\u001b[39m\u001b[39mapi_version\u001b[39m\u001b[39m'\u001b[39m] \u001b[39mis\u001b[39;00m \u001b[39mNone\u001b[39;00m:\n",
      "File \u001b[0;32m/opt/homebrew/lib/python3.10/site-packages/kafka/client_async.py:244\u001b[0m, in \u001b[0;36mKafkaClient.__init__\u001b[0;34m(self, **configs)\u001b[0m\n\u001b[1;32m    242\u001b[0m \u001b[39mif\u001b[39;00m \u001b[39mself\u001b[39m\u001b[39m.\u001b[39mconfig[\u001b[39m'\u001b[39m\u001b[39mapi_version\u001b[39m\u001b[39m'\u001b[39m] \u001b[39mis\u001b[39;00m \u001b[39mNone\u001b[39;00m:\n\u001b[1;32m    243\u001b[0m     check_timeout \u001b[39m=\u001b[39m \u001b[39mself\u001b[39m\u001b[39m.\u001b[39mconfig[\u001b[39m'\u001b[39m\u001b[39mapi_version_auto_timeout_ms\u001b[39m\u001b[39m'\u001b[39m] \u001b[39m/\u001b[39m \u001b[39m1000\u001b[39m\n\u001b[0;32m--> 244\u001b[0m     \u001b[39mself\u001b[39m\u001b[39m.\u001b[39mconfig[\u001b[39m'\u001b[39m\u001b[39mapi_version\u001b[39m\u001b[39m'\u001b[39m] \u001b[39m=\u001b[39m \u001b[39mself\u001b[39;49m\u001b[39m.\u001b[39;49mcheck_version(timeout\u001b[39m=\u001b[39;49mcheck_timeout)\n",
      "File \u001b[0;32m/opt/homebrew/lib/python3.10/site-packages/kafka/client_async.py:909\u001b[0m, in \u001b[0;36mKafkaClient.check_version\u001b[0;34m(self, node_id, timeout, strict)\u001b[0m\n\u001b[1;32m    907\u001b[0m \u001b[39mtry\u001b[39;00m:\n\u001b[1;32m    908\u001b[0m     remaining \u001b[39m=\u001b[39m end \u001b[39m-\u001b[39m time\u001b[39m.\u001b[39mtime()\n\u001b[0;32m--> 909\u001b[0m     version \u001b[39m=\u001b[39m conn\u001b[39m.\u001b[39;49mcheck_version(timeout\u001b[39m=\u001b[39;49mremaining, strict\u001b[39m=\u001b[39;49mstrict, topics\u001b[39m=\u001b[39;49m\u001b[39mlist\u001b[39;49m(\u001b[39mself\u001b[39;49m\u001b[39m.\u001b[39;49mconfig[\u001b[39m'\u001b[39;49m\u001b[39mbootstrap_topics_filter\u001b[39;49m\u001b[39m'\u001b[39;49m]))\n\u001b[1;32m    910\u001b[0m     \u001b[39mif\u001b[39;00m version \u001b[39m>\u001b[39m\u001b[39m=\u001b[39m (\u001b[39m0\u001b[39m, \u001b[39m10\u001b[39m, \u001b[39m0\u001b[39m):\n\u001b[1;32m    911\u001b[0m         \u001b[39m# cache the api versions map if it's available (starting\u001b[39;00m\n\u001b[1;32m    912\u001b[0m         \u001b[39m# in 0.10 cluster version)\u001b[39;00m\n\u001b[1;32m    913\u001b[0m         \u001b[39mself\u001b[39m\u001b[39m.\u001b[39m_api_versions \u001b[39m=\u001b[39m conn\u001b[39m.\u001b[39mget_api_versions()\n",
      "File \u001b[0;32m/opt/homebrew/lib/python3.10/site-packages/kafka/conn.py:1297\u001b[0m, in \u001b[0;36mBrokerConnection.check_version\u001b[0;34m(self, timeout, strict, topics)\u001b[0m\n\u001b[1;32m   1295\u001b[0m \u001b[39melse\u001b[39;00m:\n\u001b[1;32m   1296\u001b[0m     reset_override_configs()\n\u001b[0;32m-> 1297\u001b[0m     \u001b[39mraise\u001b[39;00m Errors\u001b[39m.\u001b[39mUnrecognizedBrokerVersion()\n\u001b[1;32m   1299\u001b[0m reset_override_configs()\n\u001b[1;32m   1300\u001b[0m \u001b[39mreturn\u001b[39;00m version\n",
      "\u001b[0;31mUnrecognizedBrokerVersion\u001b[0m: UnrecognizedBrokerVersion"
     ]
    }
   ],
   "source": [
    "from time import sleep\n",
    "from json import dumps\n",
    "from kafka import KafkaProducer\n",
    "\n",
    "\n",
    "\n",
    "\n",
    "producer = KafkaProducer(bootstrap_servers=['localhost:9094'],\n",
    "                         value_serializer=lambda x: \n",
    "                         dumps(x).encode('utf-8'))\n",
    "\n",
    "for e in range(1000):\n",
    "    data = {'number' : e}\n",
    "    producer.send('numtest', value=data)\n",
    "    print(data)\n",
    "    sleep(1)"
   ]
  }
 ],
 "metadata": {
  "kernelspec": {
   "display_name": "base",
   "language": "python",
   "name": "python3"
  },
  "language_info": {
   "codemirror_mode": {
    "name": "ipython",
    "version": 3
   },
   "file_extension": ".py",
   "mimetype": "text/x-python",
   "name": "python",
   "nbconvert_exporter": "python",
   "pygments_lexer": "ipython3",
   "version": "3.10.13"
  },
  "orig_nbformat": 4
 },
 "nbformat": 4,
 "nbformat_minor": 2
}
