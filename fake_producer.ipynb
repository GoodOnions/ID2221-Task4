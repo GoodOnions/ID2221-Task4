{
 "cells": [
  {
   "cell_type": "code",
   "execution_count": 17,
   "metadata": {},
   "outputs": [
    {
     "ename": "KeyboardInterrupt",
     "evalue": "",
     "output_type": "error",
     "traceback": [
      "\u001b[0;31m---------------------------------------------------------------------------\u001b[0m",
      "\u001b[0;31mKeyboardInterrupt\u001b[0m                         Traceback (most recent call last)",
      "\u001b[1;32m/Users/daniele/KTH-Projects/ID2221-Task4/fake_producer.ipynb Cell 1\u001b[0m line \u001b[0;36m1\n\u001b[1;32m     <a href='vscode-notebook-cell:/Users/daniele/KTH-Projects/ID2221-Task4/fake_producer.ipynb#W1sZmlsZQ%3D%3D?line=12'>13</a>\u001b[0m data \u001b[39m=\u001b[39m {\u001b[39m'\u001b[39m\u001b[39mnumber\u001b[39m\u001b[39m'\u001b[39m : e}\n\u001b[1;32m     <a href='vscode-notebook-cell:/Users/daniele/KTH-Projects/ID2221-Task4/fake_producer.ipynb#W1sZmlsZQ%3D%3D?line=13'>14</a>\u001b[0m producer\u001b[39m.\u001b[39msend(\u001b[39m'\u001b[39m\u001b[39mnumtest\u001b[39m\u001b[39m'\u001b[39m, value\u001b[39m=\u001b[39mdata)\n\u001b[0;32m---> <a href='vscode-notebook-cell:/Users/daniele/KTH-Projects/ID2221-Task4/fake_producer.ipynb#W1sZmlsZQ%3D%3D?line=14'>15</a>\u001b[0m sleep(\u001b[39m5\u001b[39;49m)\n",
      "\u001b[0;31mKeyboardInterrupt\u001b[0m: "
     ]
    }
   ],
   "source": [
    "from time import sleep\n",
    "from json import dumps\n",
    "from kafka import KafkaProducer\n",
    "\n",
    "\n",
    "\n",
    "\n",
    "producer = KafkaProducer(bootstrap_servers=['localhost:9094'],\n",
    "                         value_serializer=lambda x: \n",
    "                         dumps(x).encode('utf-8'))\n",
    "\n",
    "for e in range(1000):\n",
    "    data = {'number' : e}\n",
    "    producer.send('numtest', value=data)\n",
    "    sleep(5)"
   ]
  }
 ],
 "metadata": {
  "kernelspec": {
   "display_name": "base",
   "language": "python",
   "name": "python3"
  },
  "language_info": {
   "codemirror_mode": {
    "name": "ipython",
    "version": 3
   },
   "file_extension": ".py",
   "mimetype": "text/x-python",
   "name": "python",
   "nbconvert_exporter": "python",
   "pygments_lexer": "ipython3",
   "version": "3.10.13"
  },
  "orig_nbformat": 4
 },
 "nbformat": 4,
 "nbformat_minor": 2
}
